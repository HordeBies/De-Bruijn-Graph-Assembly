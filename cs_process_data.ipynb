{
 "cells": [
  {
   "cell_type": "code",
   "execution_count": null,
   "metadata": {
    "dotnet_interactive": {
     "language": "csharp"
    }
   },
   "outputs": [],
   "source": [
    "using System;\n",
    "using System.Collections.Generic;\n",
    "using System.Linq;\n",
    "using System.Text;\n",
    "using System.Diagnostics;\n",
    "using System.IO;\n",
    "using System.Text.Json;\n",
    "using System.Text.RegularExpressions;\n",
    "var random = new Random();"
   ]
  },
  {
   "cell_type": "code",
   "execution_count": null,
   "metadata": {
    "dotnet_interactive": {
     "language": "csharp"
    }
   },
   "outputs": [],
   "source": [
    "class Diagnostic{\n",
    "    public Diagnostic(string execution_time,int k_mer, string input_data, string output_data, int error = -1){\n",
    "        this.execution_time = execution_time;\n",
    "        this.k_mer = k_mer;\n",
    "        this.input_data = input_data;\n",
    "        this.output_data = output_data;\n",
    "        this.error = error;\n",
    "    }\n",
    "    public string execution_time { get; set; }\n",
    "    public int k_mer { get; set; }\n",
    "    public int error { get; set; }\n",
    "    public string input_data { get; set; }\n",
    "    public string output_data { get; set; }\n",
    "}\n",
    "async Task WriteToFile(string stream,string fileName){\n",
    "    await File.WriteAllTextAsync(fileName+\".json\", stream);\n",
    "}"
   ]
  },
  {
   "cell_type": "code",
   "execution_count": null,
   "metadata": {
    "dotnet_interactive": {
     "language": "csharp"
    }
   },
   "outputs": [],
   "source": [
    "class Node{\n",
    "    public static Dictionary<string,Node> lookup_table;\n",
    "    public static Node root;\n",
    "    public static Node leaf;\n",
    "    public string name;\n",
    "    public List<Node> inbounds;\n",
    "    public List<Node> outbounds;\n",
    "    private Node(string name){\n",
    "        this.name = name;\n",
    "        inbounds = new List<Node>();\n",
    "        outbounds = new List<Node>();\n",
    "    }\n",
    "    public static void AddConnection(string left_name,string right_name){\n",
    "        if(lookup_table == null)\n",
    "            lookup_table = new Dictionary<string,Node>();\n",
    "        Node left_node,right_node;\n",
    "        lookup_table.TryGetValue(left_name,out left_node);\n",
    "        if(left_node == null){\n",
    "            left_node = new Node(left_name);\n",
    "            lookup_table.Add(left_name,left_node);\n",
    "        }\n",
    "        lookup_table.TryGetValue(right_name,out right_node);\n",
    "        if(right_node == null){\n",
    "            right_node = new Node(right_name);\n",
    "            lookup_table.Add(right_name,right_node);\n",
    "        }\n",
    "        if(root == null)\n",
    "            root = left_node;\n",
    "        leaf = right_node;\n",
    "        \n",
    "        left_node.outbounds.Add(right_node);\n",
    "        right_node.inbounds.Add(left_node);\n",
    "    }\n",
    "}"
   ]
  },
  {
   "cell_type": "code",
   "execution_count": null,
   "metadata": {
    "dotnet_interactive": {
     "language": "csharp"
    }
   },
   "outputs": [],
   "source": [
    "var lines = File.ReadLines(\"genom.fna\");"
   ]
  },
  {
   "cell_type": "code",
   "execution_count": null,
   "metadata": {
    "dotnet_interactive": {
     "language": "csharp"
    }
   },
   "outputs": [],
   "source": [
    "lines = lines.Where(i => !i.StartsWith('>')).ToList();"
   ]
  },
  {
   "cell_type": "code",
   "execution_count": null,
   "metadata": {
    "dotnet_interactive": {
     "language": "csharp"
    }
   },
   "outputs": [],
   "source": [
    "var data = string.Join(\"\", lines).Replace(\"\\n\",\"\");"
   ]
  },
  {
   "cell_type": "code",
   "execution_count": null,
   "metadata": {
    "dotnet_interactive": {
     "language": "csharp"
    }
   },
   "outputs": [
    {
     "name": "stdout",
     "output_type": "stream",
     "text": [
      "2821361\r\n"
     ]
    }
   ],
   "source": [
    "//var data = \"to_every_thing_turn_turn_turn_there_is_a_season\";\n",
    "Console.WriteLine(data.Length);"
   ]
  },
  {
   "cell_type": "code",
   "execution_count": null,
   "metadata": {
    "dotnet_interactive": {
     "language": "csharp"
    }
   },
   "outputs": [],
   "source": [
    "List<string> constructReads(int k){\n",
    "    var reads = new List<string>();\n",
    "    for(int i = 0;i<data.Length-k+1;i++)\n",
    "        reads.Add(data.Substring(i,k));\n",
    "    return reads;\n",
    "}\n",
    "// var reads = constructReads(5);\n",
    "// Console.WriteLine(reads.Count())"
   ]
  },
  {
   "cell_type": "code",
   "execution_count": null,
   "metadata": {
    "dotnet_interactive": {
     "language": "csharp"
    }
   },
   "outputs": [],
   "source": [
    "void constructNodeGraph(List<string> reads){\n",
    "    var k = reads[0].Length;\n",
    "    Node.lookup_table = null;\n",
    "    Node.root = null;\n",
    "    foreach(var read in reads)\n",
    "        Node.AddConnection(read.Substring(0,k-1),read.Substring(1,k-1));\n",
    "}\n",
    "// constructNodeGraph(reads);"
   ]
  },
  {
   "cell_type": "code",
   "execution_count": null,
   "metadata": {
    "dotnet_interactive": {
     "language": "csharp"
    }
   },
   "outputs": [],
   "source": [
    "bool isBalanced(){\n",
    "    bool isBalanced = true;\n",
    "    foreach(var kvp in Node.lookup_table){\n",
    "        if(kvp.Value.inbounds.Count() != kvp.Value.outbounds.Count())\n",
    "            isBalanced = false;\n",
    "    }\n",
    "    return isBalanced;\n",
    "}\n",
    "// isBalanced()"
   ]
  },
  {
   "cell_type": "code",
   "execution_count": null,
   "metadata": {
    "dotnet_interactive": {
     "language": "csharp"
    }
   },
   "outputs": [],
   "source": [
    "void connectRootToLeaf(){\n",
    "    Node.AddConnection(Node.leaf.name,Node.root.name);\n",
    "}\n",
    "// connectRootToLeaf()"
   ]
  },
  {
   "cell_type": "code",
   "execution_count": null,
   "metadata": {
    "dotnet_interactive": {
     "language": "csharp"
    }
   },
   "outputs": [],
   "source": [
    "bool has_edge(out Node select){\n",
    "    select = Node.lookup_table.FirstOrDefault(i => i.Value.outbounds.Count > 0).Value;\n",
    "    return (select != null);\n",
    "}\n",
    "string traverse(){\n",
    "    List<Node> traverse = new List<Node>();\n",
    "    Node select;\n",
    "    while(has_edge(out select)){\n",
    "        var append_index = traverse.IndexOf(select);\n",
    "        var cycle_flag = false;\n",
    "        List<Node> cycle = new List<Node>();\n",
    "        Node left=select;\n",
    "        Node right;\n",
    "        while(!cycle_flag){\n",
    "            cycle.Add(left);\n",
    "            var idx = random.Next(left.outbounds.Count);\n",
    "            right = left.outbounds[idx];\n",
    "            left.outbounds.RemoveAt(idx);\n",
    "            //right.inbounds.Remove(left);\n",
    "            if(select.name == right.name){\n",
    "                cycle.Add(right);\n",
    "                cycle_flag = true;\n",
    "            }else\n",
    "                left = right;\n",
    "        }\n",
    "        if(append_index == -1)\n",
    "            traverse.AddRange(cycle);\n",
    "        else{\n",
    "            traverse.InsertRange(append_index+1,cycle.Skip(1));\n",
    "        }\n",
    "    }\n",
    "    var str = new StringBuilder();\n",
    "    traverse.RemoveAt(traverse.Count()-1); //delete last == tail > head\n",
    "    traverse.ForEach(i => str.Append(i.name.Substring(0,1)));\n",
    "    str.Append(traverse.Last().name.Substring(1));\n",
    "    return str.ToString();\n",
    "}"
   ]
  },
  {
   "cell_type": "code",
   "execution_count": null,
   "metadata": {
    "dotnet_interactive": {
     "language": "csharp"
    }
   },
   "outputs": [],
   "source": [
    "int hammingDistance(string a, string b){\n",
    "    var err=0;\n",
    "    for(int i = 0;i<a.Count();i++){\n",
    "        if(a[i] != b[i])\n",
    "            err++;\n",
    "    }\n",
    "    return err;\n",
    "}"
   ]
  },
  {
   "cell_type": "code",
   "execution_count": null,
   "metadata": {
    "dotnet_interactive": {
     "language": "csharp"
    }
   },
   "outputs": [],
   "source": [
    "async void saveDiagnostic(Diagnostic diagnostic, string fileName){\n",
    "    string jsonString = JsonSerializer.Serialize(diagnostic);\n",
    "    await WriteToFile(jsonString,fileName);\n",
    "}"
   ]
  },
  {
   "cell_type": "code",
   "execution_count": null,
   "metadata": {
    "dotnet_interactive": {
     "language": "csharp"
    }
   },
   "outputs": [],
   "source": [
    "Diagnostic processData(int k, bool saveResults = false,int dupeIdx = -1,string subFolderName= \"\"){\n",
    "    var reads = constructReads(k);\n",
    "    constructNodeGraph(reads);\n",
    "    connectRootToLeaf();\n",
    "    var watch = System.Diagnostics.Stopwatch.StartNew();\n",
    "    var result = traverse();\n",
    "    watch.Stop();\n",
    "    var elapsed = watch.Elapsed.ToString();\n",
    "    var diagnostic = new Diagnostic(elapsed,k,data,result);\n",
    "    if(saveResults)\n",
    "        saveDiagnostic(diagnostic,subFolderName+\"genom_k_\"+(dupeIdx == -1 ? k.ToString(): k.ToString()+\"_\"+dupeIdx.ToString()));\n",
    "    Console.WriteLine(\"k= \"+(dupeIdx == -1 ? k.ToString(): k.ToString()+\"_\"+dupeIdx.ToString())+\" Done!\");\n",
    "    return diagnostic;\n",
    "}\n"
   ]
  },
  {
   "cell_type": "code",
   "execution_count": null,
   "metadata": {
    "dotnet_interactive": {
     "language": "csharp"
    }
   },
   "outputs": [],
   "source": [
    "foreach(int i in new int[]{1750}){\n",
    "    for(int j = 1; j < 6;j++){\n",
    "        processData(i,true,j,\"Data/\");\n",
    "    }\n",
    "}"
   ]
  },
  {
   "cell_type": "code",
   "execution_count": null,
   "metadata": {
    "dotnet_interactive": {
     "language": "csharp"
    }
   },
   "outputs": [],
   "source": [
    "void HummingDistance(Diagnostic d){\n",
    "    int distance = 0;\n",
    "    for(int i = 0; i< d.input_data.Length; i++){\n",
    "        if(d.input_data[i] != d.output_data[i])\n",
    "            distance++;\n",
    "    }\n",
    "    d.error = distance;\n",
    "}"
   ]
  },
  {
   "cell_type": "code",
   "execution_count": null,
   "metadata": {
    "dotnet_interactive": {
     "language": "csharp"
    }
   },
   "outputs": [],
   "source": [
    "void CalculateErrors(){\n",
    "    var files = Directory.GetFiles(Directory.GetCurrentDirectory()+\"/Data\").Where(i => Regex.IsMatch(i,\".*[.]json\")).Select(i => i.Substring(Directory.GetCurrentDirectory().Length+1));\n",
    "    foreach(var fileName in files){\n",
    "        var jsonString = File.ReadAllText(fileName);\n",
    "        var diagnostic = JsonSerializer.Deserialize<Diagnostic>(jsonString);\n",
    "        if(diagnostic.error == -1)\n",
    "            HummingDistance(diagnostic);\n",
    "        //Console.WriteLine(fileName);\n",
    "        saveDiagnostic(diagnostic,fileName.Substring(0,fileName.Length-5));\n",
    "    }\n",
    "}\n",
    "CalculateErrors();"
   ]
  },
  {
   "cell_type": "code",
   "execution_count": null,
   "metadata": {
    "dotnet_interactive": {
     "language": "csharp"
    }
   },
   "outputs": [],
   "source": []
  }
 ],
 "metadata": {
  "kernelspec": {
   "display_name": ".NET (C#)",
   "language": "C#",
   "name": ".net-csharp"
  },
  "language_info": {
   "file_extension": ".cs",
   "mimetype": "text/x-csharp",
   "name": "C#",
   "pygments_lexer": "csharp",
   "version": "9.0"
  },
  "orig_nbformat": 4
 },
 "nbformat": 4,
 "nbformat_minor": 2
}
